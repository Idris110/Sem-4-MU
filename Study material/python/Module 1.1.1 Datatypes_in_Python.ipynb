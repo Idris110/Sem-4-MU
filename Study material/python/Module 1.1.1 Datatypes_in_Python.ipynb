{
  "nbformat": 4,
  "nbformat_minor": 0,
  "metadata": {
    "colab": {
      "name": "Datatypes in Python.ipynb",
      "provenance": [],
      "collapsed_sections": [
        "1fL93_W6enAE"
      ],
      "toc_visible": true
    },
    "kernelspec": {
      "name": "python3",
      "display_name": "Python 3"
    }
  },
  "cells": [
    {
      "cell_type": "markdown",
      "metadata": {
        "id": "jpMdSP4-ZRGe"
      },
      "source": [
        "# **Datatypes in Python**\n",
        "\n",
        "What we will learn?\n",
        "\n",
        "\n",
        "*   Comments in python\n",
        "*   Docstrings\n",
        "*   Variables in python\n",
        "*   Built-in datatypes\n",
        "*   Sequences in python\n",
        "*   Sets datatype\n",
        "*   Mapping types\n",
        "*   Literals & constants in python\n",
        "*   Determining the datatype of a variable\n",
        "*   Identifiers & reserved words\n",
        "\n",
        "\n",
        "\n",
        "\n",
        "\n",
        "\n",
        "\n",
        "\n",
        "\n",
        "\n",
        "\n",
        "\n",
        "\n"
      ]
    },
    {
      "cell_type": "markdown",
      "metadata": {
        "id": "L4TxlwyRdzqZ"
      },
      "source": [
        "Let us run our very first program in python"
      ]
    },
    {
      "cell_type": "code",
      "metadata": {
        "id": "GLzx7xXXafcK",
        "colab": {
          "base_uri": "https://localhost:8080/"
        },
        "outputId": "0506e006-9c7b-4c8a-fee0-d41aa1940e56"
      },
      "source": [
        "#Program to add two new numbers\n",
        "a=5\n",
        "b=7\n",
        "c=a+b\n",
        "print(\"Sum=\",c)"
      ],
      "execution_count": null,
      "outputs": [
        {
          "output_type": "stream",
          "text": [
            "Sum= 12\n"
          ],
          "name": "stdout"
        }
      ]
    },
    {
      "cell_type": "markdown",
      "metadata": {
        "id": "1fL93_W6enAE"
      },
      "source": [
        "## **Comments in python**\n",
        "\n",
        "\n",
        "Comments are descriptions that help programmers better understand the intent and functionality of the program.\n",
        "\n",
        "They are completely ignored by the Python interpreter.\n",
        "\n",
        "It makes the program more readable which helps us remember why certain blocks of code were written.\n",
        "There are two types of comments in python:\n",
        "\n",
        "\n",
        "1.   Single line comments\n",
        "2.   Multi line comments\n",
        "\n",
        "\n",
        "1.   Single line comments:\n",
        "\n",
        "  In Python, we use the hash symbol # to write a single-line comment.\n",
        "\n",
        " Example:\n",
        "\n",
        "\n"
      ]
    },
    {
      "cell_type": "code",
      "metadata": {
        "id": "_JjjUmKza7rf"
      },
      "source": [
        "a=10 #store 10 into variable a "
      ],
      "execution_count": null,
      "outputs": []
    },
    {
      "cell_type": "markdown",
      "metadata": {
        "id": "OSzg3Tx4gvQJ"
      },
      "source": [
        "2.   Multi line comments:\n",
        "\n",
        " There is no unique way to write multiline comments in Python. Python interpreter ignores the string literals that are not assigned to a variable. We can add a multiline string triple (single or double) quotes in code, and place comment inside it:"
      ]
    },
    {
      "cell_type": "code",
      "metadata": {
        "id": "hPpIRHwkXyvd",
        "colab": {
          "base_uri": "https://localhost:8080/"
        },
        "outputId": "c4e75d79-023d-46aa-dec3-a1c186804467"
      },
      "source": [
        "''' This is a multi line\n",
        "comment '''\n",
        "print('hello')"
      ],
      "execution_count": null,
      "outputs": [
        {
          "output_type": "stream",
          "text": [
            "hello\n"
          ],
          "name": "stdout"
        }
      ]
    },
    {
      "cell_type": "code",
      "metadata": {
        "id": "ZqIk_aGEZ39q",
        "colab": {
          "base_uri": "https://localhost:8080/"
        },
        "outputId": "f5cf44fa-1700-47eb-fcf7-0b60538d8c59"
      },
      "source": [
        "\"\"\" This is a multi line\n",
        "comment \"\"\"\n",
        "print('hello')"
      ],
      "execution_count": null,
      "outputs": [
        {
          "output_type": "stream",
          "text": [
            "hello\n"
          ],
          "name": "stdout"
        }
      ]
    },
    {
      "cell_type": "markdown",
      "metadata": {
        "id": "1gyB86Fyaxnw"
      },
      "source": [
        "## **Docstring**\n",
        "Python documentation strings (or docstrings) provide a convenient way of associating documentation with Python modules, functions, classes, and methods.\n",
        "\n",
        "It’s specified in source code that is used, like a comment, to document a specific segment of code. It should describe what the function does.\n",
        "\n",
        "**Declaring Docstrings:** The docstrings are declared using ”’triple single quotes”’ or “””triple double quotes””” just below the class, method or function declaration. All functions should have a docstring.\n",
        "\n",
        "**Accessing Docstrings**: The docstrings can be accessed using the __ doc __ method of the object or using the help function.\n",
        "The below examples demonstrates how to declare and access a docstring.\n"
      ]
    },
    {
      "cell_type": "code",
      "metadata": {
        "id": "K-vjM0aw9Oot",
        "colab": {
          "base_uri": "https://localhost:8080/"
        },
        "outputId": "fbd4d061-9e27-4a25-bc34-1fc4bdc53f92"
      },
      "source": [
        "def square(n):\n",
        "    '''Takes in a number n, returns the square of n'''\n",
        "    return n**2\n",
        "print(\"Using __doc__:\") \n",
        "print(square.__doc__) \n",
        "  \n",
        "print(\"Using help:\") \n",
        "help(square) "
      ],
      "execution_count": null,
      "outputs": [
        {
          "output_type": "stream",
          "text": [
            "Using __doc__:\n",
            "Takes in a number n, returns the square of n\n",
            "Using help:\n",
            "Help on function square in module __main__:\n",
            "\n",
            "square(n)\n",
            "    Takes in a number n, returns the square of n\n",
            "\n"
          ],
          "name": "stdout"
        }
      ]
    },
    {
      "cell_type": "markdown",
      "metadata": {
        "id": "JaLW_wmYDPhr"
      },
      "source": [
        "## **Variables**\n",
        "Python variables do not need explicit declaration to reserve memory space. \n",
        "The declaration happens automatically when you assign a value to a variable. The equal sign (=) is used to assign values to variables.\n",
        "\n",
        "The operand to the left of the = operator is the name of the variable/identifier and the operand to the right of the = operator is the value stored in the variable. \n",
        "In Python, variables are a symbolic name that is a reference or pointer to an object. The variables are used to denote objects by that name.\n",
        "\n",
        "Le's understand thiw with example:"
      ]
    },
    {
      "cell_type": "code",
      "metadata": {
        "id": "YWFPLXrHGriE"
      },
      "source": [
        "a=50"
      ],
      "execution_count": null,
      "outputs": []
    },
    {
      "cell_type": "markdown",
      "metadata": {
        "id": "_-pFH2yGGu7u"
      },
      "source": [
        "![image.png](data:image/png;base64,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)"
      ]
    },
    {
      "cell_type": "markdown",
      "metadata": {
        "id": "zIWoUfGMG_4h"
      },
      "source": [
        "In the above image, the variable a refers to an integer object.\n",
        "\n",
        "Suppose we assign the integer value 50 to a new variable b."
      ]
    },
    {
      "cell_type": "code",
      "metadata": {
        "id": "eCWWCxmfHIYX"
      },
      "source": [
        "b = a"
      ],
      "execution_count": null,
      "outputs": []
    },
    {
      "cell_type": "markdown",
      "metadata": {
        "id": "CYJ4JAD_HMUl"
      },
      "source": [
        "![image.png](data:image/png;base64,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)"
      ]
    },
    {
      "cell_type": "markdown",
      "metadata": {
        "id": "KuCpHHxXLCVY"
      },
      "source": [
        "The variable b refers to the same object that a points to because Python does not create another object.\n",
        "\n",
        "Let's assign the new value to b. Now both variables will refer to the different objects."
      ]
    },
    {
      "cell_type": "code",
      "metadata": {
        "id": "8hlaWuxdLGhG"
      },
      "source": [
        "b=100"
      ],
      "execution_count": null,
      "outputs": []
    },
    {
      "cell_type": "markdown",
      "metadata": {
        "id": "XKyXSlMqLEC3"
      },
      "source": [
        "![image.png](data:image/png;base64,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)"
      ]
    },
    {
      "cell_type": "markdown",
      "metadata": {
        "id": "4Y0TI5wCLL2W"
      },
      "source": [
        "Assigning values:"
      ]
    },
    {
      "cell_type": "code",
      "metadata": {
        "id": "Tp9dJj_nLlGm",
        "colab": {
          "base_uri": "https://localhost:8080/"
        },
        "outputId": "3fffe928-258b-4a76-b64a-62f5cf3e7e0a"
      },
      "source": [
        "a=1\n",
        "b=1.1\n",
        "msg='Python'\n",
        "print(a)\n",
        "print(b)\n",
        "print(msg)"
      ],
      "execution_count": null,
      "outputs": [
        {
          "output_type": "stream",
          "text": [
            "1\n",
            "1.1\n",
            "Python\n"
          ],
          "name": "stdout"
        }
      ]
    },
    {
      "cell_type": "markdown",
      "metadata": {
        "id": "Em5Gf6ksLxR5"
      },
      "source": [
        "Multiple assignments:"
      ]
    },
    {
      "cell_type": "code",
      "metadata": {
        "id": "lVRSaY3mLzf_",
        "colab": {
          "base_uri": "https://localhost:8080/"
        },
        "outputId": "e39ed2d5-7b94-44d4-980d-0f7bee6e6596"
      },
      "source": [
        "a, b, c = 1, 1.1, 'Python'\n",
        "print(c)"
      ],
      "execution_count": null,
      "outputs": [
        {
          "output_type": "stream",
          "text": [
            "Python\n"
          ],
          "name": "stdout"
        }
      ]
    },
    {
      "cell_type": "markdown",
      "metadata": {
        "id": "7ZoglSheMAZW"
      },
      "source": [
        "Same value to multiple variables:"
      ]
    },
    {
      "cell_type": "code",
      "metadata": {
        "id": "40ld-k--MDgK",
        "colab": {
          "base_uri": "https://localhost:8080/"
        },
        "outputId": "94a2d54b-d3ca-41ce-a7b4-0a81991e1b34"
      },
      "source": [
        "a = b = c = 1\n",
        "print(c)"
      ],
      "execution_count": null,
      "outputs": [
        {
          "output_type": "stream",
          "text": [
            "1\n"
          ],
          "name": "stdout"
        }
      ]
    },
    {
      "cell_type": "markdown",
      "metadata": {
        "id": "oz94zcwKMM2f"
      },
      "source": [
        "## **Built-in datatypes**\n",
        "Data types are the classification or categorization of data items. Python supports the following built-in data types.\n",
        "\n",
        "1.   **None:**\n",
        "\n",
        "  It represents the null object in Python. A None is returned by functions that don't explicitly return a value.\n",
        "2.   **Numeric:**\n",
        "\n",
        "  Numeric value can be integer, floating number or even complex numbers. These values are defined as int, float and complex class in Python.\n",
        " \n",
        "  **int:**\n",
        "   It contains positive or negative whole numbers (without fraction or decimal). In Python there is no limit to how long an integer value can be.\n",
        "\n",
        "   **float:**\n",
        "   It is a real number with floating point representation. It is specified by a decimal point. Optionally, the character e or E followed by a positive or negative integer may be appended to specify scientific notation. \n",
        "\n",
        "   **complex:**\n",
        " It is specified as (real part) + (imaginary part)j. \n",
        " \n",
        " For example – 2+3j\n",
        "\n",
        "**Converting datatype explicitly**\n",
        "\n",
        "\n",
        "1.   float to int"
      ]
    },
    {
      "cell_type": "code",
      "metadata": {
        "id": "8rMeLBWyV0zx",
        "colab": {
          "base_uri": "https://localhost:8080/"
        },
        "outputId": "e479ac47-f16c-425a-cedc-5686d154a65e"
      },
      "source": [
        "a=10.57\n",
        "print(int(a))\n"
      ],
      "execution_count": null,
      "outputs": [
        {
          "output_type": "stream",
          "text": [
            "10\n"
          ],
          "name": "stdout"
        }
      ]
    },
    {
      "cell_type": "markdown",
      "metadata": {
        "id": "zBqvRy7pV1s6"
      },
      "source": [
        "2.   int to float"
      ]
    },
    {
      "cell_type": "code",
      "metadata": {
        "id": "oGgs2KdxV2A4",
        "colab": {
          "base_uri": "https://localhost:8080/"
        },
        "outputId": "0455db7c-4f2f-4e48-8755-6d2cfff00c77"
      },
      "source": [
        "a=10\n",
        "print(float(a))"
      ],
      "execution_count": null,
      "outputs": [
        {
          "output_type": "stream",
          "text": [
            "10.0\n"
          ],
          "name": "stdout"
        }
      ]
    },
    {
      "cell_type": "markdown",
      "metadata": {
        "id": "pbLLQ4WVV2U-"
      },
      "source": [
        "3.   int or float to complex"
      ]
    },
    {
      "cell_type": "code",
      "metadata": {
        "id": "c6JZXj4sWg5E",
        "colab": {
          "base_uri": "https://localhost:8080/"
        },
        "outputId": "9d8b3391-bc4c-4cad-ebb4-f204c1dd93dc"
      },
      "source": [
        "print(complex(a))\n",
        "b=-15\n",
        "print(complex(a,b))"
      ],
      "execution_count": null,
      "outputs": [
        {
          "output_type": "stream",
          "text": [
            "(10+0j)\n",
            "(10-15j)\n"
          ],
          "name": "stdout"
        }
      ]
    },
    {
      "cell_type": "markdown",
      "metadata": {
        "id": "HWusqmUsWuQ4"
      },
      "source": [
        "**type():** built-in function that prints type of object"
      ]
    },
    {
      "cell_type": "code",
      "metadata": {
        "id": "atIRqM87W4vI",
        "colab": {
          "base_uri": "https://localhost:8080/"
        },
        "outputId": "40574a29-22ab-4212-cdc8-13df40bce677"
      },
      "source": [
        "a=1.0\n",
        "b=2\n",
        "c=complex(a+b)\n",
        "print(c)\n",
        "print(type(a))\n",
        "print(type(b))\n",
        "print(type(c))"
      ],
      "execution_count": null,
      "outputs": [
        {
          "output_type": "stream",
          "text": [
            "(3+0j)\n",
            "<class 'float'>\n",
            "<class 'int'>\n",
            "<class 'complex'>\n"
          ],
          "name": "stdout"
        }
      ]
    },
    {
      "cell_type": "markdown",
      "metadata": {
        "id": "DfwuOeXHXXli"
      },
      "source": [
        "## **bool datatype:**\n",
        "\n",
        "  Data type with one of the two built-in values, True or False. \n",
        "  Python internally represents True as 1 and False as 0.\n",
        "\n",
        "  A blank string \"\" is also represented as False.\n",
        "  \n",
        "  Example:"
      ]
    },
    {
      "cell_type": "code",
      "metadata": {
        "id": "HdV_3gNNX-Kr",
        "colab": {
          "base_uri": "https://localhost:8080/"
        },
        "outputId": "eee5fa96-0ed0-4b6f-8842-1ab7e0f3f677"
      },
      "source": [
        "a=5>7\n",
        "print(a)"
      ],
      "execution_count": null,
      "outputs": [
        {
          "output_type": "stream",
          "text": [
            "False\n"
          ],
          "name": "stdout"
        }
      ]
    },
    {
      "cell_type": "code",
      "metadata": {
        "id": "64T-w7DzYJdm",
        "colab": {
          "base_uri": "https://localhost:8080/"
        },
        "outputId": "ce4b7869-3a46-46b2-90e8-59497899371d"
      },
      "source": [
        "print(True+True)\n",
        "print(True-False)\n",
        "a=(10>5)+(9>5)\n",
        "print(a)"
      ],
      "execution_count": null,
      "outputs": [
        {
          "output_type": "stream",
          "text": [
            "2\n",
            "1\n",
            "2\n"
          ],
          "name": "stdout"
        }
      ]
    },
    {
      "cell_type": "markdown",
      "metadata": {
        "id": "tNINhMj8A8pT"
      },
      "source": [
        ""
      ]
    },
    {
      "cell_type": "markdown",
      "metadata": {
        "id": "K91Zd1yigqwQ"
      },
      "source": [
        "## **Sequences in python**\n",
        "It is a group of elements or items. It allows to store multiple values in an organized and efficient fashion. There are several sequence types in Python –\n",
        "\n",
        "\n",
        "1.  **String datatype** \n",
        " \n",
        " A string is a collection of one or more characters put in a single quote, double-quote or triple quote. In python there is no character data type, a character is a string of length one. It is represented by str class."
      ]
    },
    {
      "cell_type": "code",
      "metadata": {
        "id": "PKV3K_AYkFeE",
        "colab": {
          "base_uri": "https://localhost:8080/"
        },
        "outputId": "6316218b-987c-4bcb-895e-65e97eca0a5e"
      },
      "source": [
        "String1 = 'Welcome to the python class'\n",
        "print(\"String with the use of Single Quotes: \")  \n",
        "print(String1)  \n",
        "    \n",
        "# Creating a String  \n",
        "# with double Quotes  \n",
        "String1 = \"I'm a Programmer\"\n",
        "print(\"\\nString with the use of Double Quotes: \")  \n",
        "print(String1)  \n",
        "print(type(String1)) \n",
        "    \n",
        "# Creating a String  \n",
        "# with triple Quotes  \n",
        "String1 = '''I'm learning Python'''\n",
        "print(\"\\nString with the use of Triple Quotes: \")  \n",
        "print(String1)  \n",
        "print(type(String1)) \n",
        "  \n",
        "# Creating String with triple  \n",
        "# Quotes allows multiple lines  \n",
        "String1 = '''Python  \n",
        "is\n",
        "fun'''\n",
        "print(\"\\nCreating a multiline String: \")  \n",
        "print(String1)  "
      ],
      "execution_count": null,
      "outputs": [
        {
          "output_type": "stream",
          "text": [
            "String with the use of Single Quotes: \n",
            "Welcome to the python class\n",
            "\n",
            "String with the use of Double Quotes: \n",
            "I'm a Programmer\n",
            "<class 'str'>\n",
            "\n",
            "String with the use of Triple Quotes: \n",
            "I'm learning Python\n",
            "<class 'str'>\n",
            "\n",
            "Creating a multiline String: \n",
            "Python  \n",
            "is\n",
            "fun\n"
          ],
          "name": "stdout"
        }
      ]
    },
    {
      "cell_type": "markdown",
      "metadata": {
        "id": "bPeVKwAEk2S_"
      },
      "source": [
        " Accessing string:\n",
        " \n",
        " Individual characters of a String can be accessed by using the method of Indexing. Indexing allows negative address references to access characters from the back of the String.\n",
        " \n",
        " \n",
        " ![image.png](data:image/png;base64,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)"
      ]
    },
    {
      "cell_type": "code",
      "metadata": {
        "id": "Dehu4typlerC",
        "colab": {
          "base_uri": "https://localhost:8080/"
        },
        "outputId": "8ed0dc5d-c9f1-4919-abdb-eefb30d0a59c"
      },
      "source": [
        "s1=\"Hello\"\n",
        "s2='hello'\n",
        "s3='''This is 'core python' book'''\n",
        "s4=\"welcome\"\n",
        "print(s1)\n",
        "print(s2[1])\n",
        "print(s3[5:7])\n",
        "print(s4[3:])\n",
        "print(s4[-1])\n",
        "print(s1*2)\n",
        "#to retrieve all characters of string we can use for loop\n",
        "for i in s1:\n",
        "  print(i)"
      ],
      "execution_count": null,
      "outputs": [
        {
          "output_type": "stream",
          "text": [
            "Hello\n",
            "e\n",
            "is\n",
            "come\n",
            "e\n",
            "HelloHello\n",
            "H\n",
            "e\n",
            "l\n",
            "l\n",
            "o\n"
          ],
          "name": "stdout"
        }
      ]
    },
    {
      "cell_type": "markdown",
      "metadata": {
        "id": "1EFcoIzM_GAu"
      },
      "source": [
        "**2. Bytes Datatype**\n",
        "\n",
        "It represents group of byte numbers just like an array does​\n",
        "\n",
        "A byte number is any positive integer from 0 to 255 (inclusive)​\n",
        "\n",
        " It cannot store negative number​\n",
        "\n",
        " We cannot edit or modify byte type array ​"
      ]
    },
    {
      "cell_type": "code",
      "metadata": {
        "colab": {
          "base_uri": "https://localhost:8080/"
        },
        "id": "Bpa-lK2x_WE5",
        "outputId": "c68008bf-f48e-4666-a139-f6f711f4b447"
      },
      "source": [
        "elem = [10, 20, 0, 45]\n",
        "x = bytes(elem)\n",
        "print(x[1])\n",
        "\n",
        "# x[0] = 88  # This will throw error"
      ],
      "execution_count": null,
      "outputs": [
        {
          "output_type": "stream",
          "text": [
            "20\n"
          ],
          "name": "stdout"
        }
      ]
    },
    {
      "cell_type": "markdown",
      "metadata": {
        "id": "XKStNtb3_0rr"
      },
      "source": [
        "**3. Bytearray datatype** \n",
        "\n",
        "Similar to bytes datatype​\n",
        "\n",
        "Bytearray type array can be modified​"
      ]
    },
    {
      "cell_type": "code",
      "metadata": {
        "colab": {
          "base_uri": "https://localhost:8080/"
        },
        "id": "IV7kQ7EVAEzz",
        "outputId": "8e0a3ed1-10b8-4e19-ae09-20fe3ef219d6"
      },
      "source": [
        "elem = [10, 20, 0, 45]\n",
        "x = bytearray(elem)\n",
        "print(x[0])\n",
        "\n",
        "x[0] = 88\n",
        "x[1] = 89\n",
        "\n",
        "print(x[0])"
      ],
      "execution_count": null,
      "outputs": [
        {
          "output_type": "stream",
          "text": [
            "10\n",
            "88\n"
          ],
          "name": "stdout"
        }
      ]
    },
    {
      "cell_type": "markdown",
      "metadata": {
        "id": "BH4LjGsClFrV"
      },
      "source": [
        "  **4. List datatype** \n",
        "\n",
        "  Lists are just like dynamic sized arrays, declared in other languages (vector in C++ and ArrayList in Java). \n",
        "  \n",
        "  Lists need not be homogeneous always which makes it a most powerful tool in Python. \n",
        "  \n",
        "  A single list may contain DataTypes like Integers, Strings, as well as Objects. Lists are **mutable**, and hence, they can be altered even after their creation.\n",
        "\n",
        "  It is created by placing all the items (elements) inside square brackets [], separated by commas."
      ]
    },
    {
      "cell_type": "code",
      "metadata": {
        "id": "ueq_GeR6ojMb",
        "colab": {
          "base_uri": "https://localhost:8080/"
        },
        "outputId": "c7d69782-3ca3-4eb2-d66d-5078bbbdaf8d"
      },
      "source": [
        "lst = [1, 2.3, \"abc\", 1+2j]\n",
        "print(lst)\n",
        "print(lst[0])\n",
        "print(lst[2:4])\n",
        "print(lst[-1])\n",
        "print(lst*2)\n",
        "print(type(lst))"
      ],
      "execution_count": null,
      "outputs": [
        {
          "output_type": "stream",
          "text": [
            "[1, 2.3, 'abc', (1+2j)]\n",
            "1\n",
            "['abc', (1+2j)]\n",
            "(1+2j)\n",
            "[1, 2.3, 'abc', (1+2j), 1, 2.3, 'abc', (1+2j)]\n",
            "<class 'list'>\n"
          ],
          "name": "stdout"
        }
      ]
    },
    {
      "cell_type": "code",
      "metadata": {
        "id": "0c4tMiAZqiin",
        "colab": {
          "base_uri": "https://localhost:8080/"
        },
        "outputId": "53eb44d1-4b2a-4aa8-bb86-f67cf6c82a96"
      },
      "source": [
        "thislist = [\"orange\", \"mango\", \"kiwi\", \"pineapple\", \"banana\"]\n",
        "thislist.sort()\n",
        "print(thislist)   #ascending sort\n",
        "thislist.sort(reverse = True) #descending sort\n",
        "print(thislist)"
      ],
      "execution_count": null,
      "outputs": [
        {
          "output_type": "stream",
          "text": [
            "['banana', 'kiwi', 'mango', 'orange', 'pineapple']\n",
            "['pineapple', 'orange', 'mango', 'kiwi', 'banana']\n"
          ],
          "name": "stdout"
        }
      ]
    },
    {
      "cell_type": "markdown",
      "metadata": {
        "id": "MB71CZQzqRzr"
      },
      "source": [
        "  **5. tuple datatype**\n",
        "\n",
        "  Tuples like list are used to store multiple items in a single variable.\n",
        "  \n",
        "  A tuple is a collection which is ordered and unchangeable.\n",
        "  \n",
        "  Tuples are written with round brackets."
      ]
    },
    {
      "cell_type": "code",
      "metadata": {
        "id": "odz6G8ymsChM",
        "colab": {
          "base_uri": "https://localhost:8080/"
        },
        "outputId": "daefdc45-11a0-414c-d74c-9cf2eb70fe9a"
      },
      "source": [
        "tup1 = (12, 34.56);\n",
        "tup2 = ('abc', 'xyz');\n",
        "\n",
        "# Following action is not valid for tuples\n",
        "# tup1[0] = 100;\n",
        "\n",
        "# So let's create a new tuple as follows\n",
        "tup3 = tup1 + tup2;\n",
        "print(tup3);"
      ],
      "execution_count": null,
      "outputs": [
        {
          "output_type": "stream",
          "text": [
            "(12, 34.56, 'abc', 'xyz')\n"
          ],
          "name": "stdout"
        }
      ]
    },
    {
      "cell_type": "markdown",
      "metadata": {
        "id": "ekYCMOQFs-PY"
      },
      "source": [
        "**6. range datatype**\n",
        "\n",
        "  The range() type returns an immutable sequence of numbers between the given start integer to the stop integer.\n",
        "\n",
        "  range() takes mainly three arguments having the same use in both definitions:\n",
        "\n",
        "  **start** - integer starting from which the sequence of integers is to be returned\n",
        "\n",
        "  **stop** - integer before which the sequence of integers is to be returned.The range of integers ends at stop - 1.\n",
        "\n",
        "  **step (Optional)** - integer value which determines the increment between each integer in the sequence. Default value is 1.\n",
        "\n",
        "  Python does not unpack the result of the range() function. We can use argument-unpacking operator i.e. *."
      ]
    },
    {
      "cell_type": "code",
      "metadata": {
        "id": "tpV2R-oVu17X",
        "colab": {
          "base_uri": "https://localhost:8080/"
        },
        "outputId": "2e74725b-265c-426b-f72e-93ad4748fdcc"
      },
      "source": [
        "My_list = [*range(10)] \n",
        "  \n",
        "# Print the list \n",
        "print(My_list) "
      ],
      "execution_count": null,
      "outputs": [
        {
          "output_type": "stream",
          "text": [
            "[0, 1, 2, 3, 4, 5, 6, 7, 8, 9]\n"
          ],
          "name": "stdout"
        }
      ]
    },
    {
      "cell_type": "code",
      "metadata": {
        "colab": {
          "base_uri": "https://localhost:8080/"
        },
        "id": "tAwcJWjqjcEF",
        "outputId": "4b812440-06ed-4d48-b0d4-692ef54dec08"
      },
      "source": [
        "print(list)\n",
        "LST = list(range(4))\n",
        "print(LST)"
      ],
      "execution_count": null,
      "outputs": [
        {
          "output_type": "stream",
          "text": [
            "<class 'list'>\n",
            "[0, 1, 2, 3]\n"
          ],
          "name": "stdout"
        }
      ]
    },
    {
      "cell_type": "markdown",
      "metadata": {
        "id": "EmZjZO-YvIER"
      },
      "source": [
        "**Create a list of even number between the given numbers using range()**"
      ]
    },
    {
      "cell_type": "code",
      "metadata": {
        "id": "bCiawf1UvKNY",
        "colab": {
          "base_uri": "https://localhost:8080/"
        },
        "outputId": "75ae3f88-aeaf-48e0-92ce-77f3a1578d8c"
      },
      "source": [
        "\n",
        "My_list = [*range(2,14,2)] \n",
        "\n",
        "print(My_list)"
      ],
      "execution_count": null,
      "outputs": [
        {
          "output_type": "stream",
          "text": [
            "[2, 4, 6, 8, 10, 12]\n"
          ],
          "name": "stdout"
        }
      ]
    },
    {
      "cell_type": "markdown",
      "metadata": {
        "id": "fIU5iSChFK2a"
      },
      "source": [
        "## **Sets datatype**\n",
        "\n",
        "A Set is an unordered collection data type that is iterable, mutable and has no duplicate elements. \n",
        "\n",
        "Sets can also be used to perform mathematical set operations like union, intersection, symmetric difference, etc.\n",
        "\n",
        "Sets are written with curly brackets."
      ]
    },
    {
      "cell_type": "code",
      "metadata": {
        "colab": {
          "base_uri": "https://localhost:8080/"
        },
        "id": "zDr7oloqGAza",
        "outputId": "2eecf646-d0f1-4a98-cfe7-684972e8edf8"
      },
      "source": [
        "s1={1,2,3,4}\n",
        "print(s1)\n",
        "s2=set(\"Hello\")\n",
        "print(s2)\n",
        "l=[1,2,2,3]\n",
        "s3=set(l)\n",
        "print(s3)"
      ],
      "execution_count": null,
      "outputs": [
        {
          "output_type": "stream",
          "text": [
            "{1, 2, 3, 4}\n",
            "{'l', 'o', 'e', 'H'}\n",
            "{1, 2, 3}\n"
          ],
          "name": "stdout"
        }
      ]
    },
    {
      "cell_type": "markdown",
      "metadata": {
        "id": "Miti8dzlGZyK"
      },
      "source": [
        "Indexing & slicng is not possible in sets as it is an unordered collection. \n",
        "\n",
        "update() & remove() methods are use to add & delete elements respectively."
      ]
    },
    {
      "cell_type": "code",
      "metadata": {
        "id": "dg0LldYQGkzs",
        "colab": {
          "base_uri": "https://localhost:8080/"
        },
        "outputId": "c8e961d4-350d-4272-ec6e-9527a666f41d"
      },
      "source": [
        "s3.update([5,6])\n",
        "print(s3)\n",
        "s3.remove(2)\n",
        "print(s3)"
      ],
      "execution_count": null,
      "outputs": [
        {
          "output_type": "stream",
          "text": [
            "{1, 2, 3, 5, 6}\n",
            "{1, 3, 5, 6}\n"
          ],
          "name": "stdout"
        }
      ]
    },
    {
      "cell_type": "markdown",
      "metadata": {
        "id": "pmkRmZ43HLwI"
      },
      "source": [
        "### **frozenset datatype**\n",
        "\n",
        "Frozen sets in Python are immutable objects that only support methods and operators that produce a result without affecting the frozen set or sets to which they are applied."
      ]
    },
    {
      "cell_type": "code",
      "metadata": {
        "id": "lv7UCKyIHoaZ",
        "colab": {
          "base_uri": "https://localhost:8080/"
        },
        "outputId": "7ba3c5fd-c65c-417e-a719-8b5062f83ebf"
      },
      "source": [
        "fs=frozenset(s3)\n",
        "print(fs)\n",
        "#fs.remove(3) #will cause an error"
      ],
      "execution_count": null,
      "outputs": [
        {
          "output_type": "stream",
          "text": [
            "frozenset({1, 3, 5, 6})\n"
          ],
          "name": "stdout"
        }
      ]
    },
    {
      "cell_type": "markdown",
      "metadata": {
        "id": "IciWTdFoIEEB"
      },
      "source": [
        "## **Mapping types**\n",
        "\n",
        "A map represents a group of elements in the form of key value pairsso that when the key is given, we can retrieve the value associated with it.\n",
        "\n",
        "### **Dictionary Data type**\n",
        "\n",
        "\n",
        "Python dictionary is an unordered collection of items. Each item of a dictionary has a key:value pair.\n",
        "\n",
        "Dictionaries are optimized to retrieve values when the key is known.\n",
        "\n",
        "**Creating dictionary:**\n",
        "\n",
        "Creating a dictionary is as simple as placing items inside curly braces {} separated by commas.\n",
        "\n",
        "An item has a key and a corresponding value that is expressed as a pair (key: value).\n",
        "\n",
        "While the values can be of any data type and can repeat, keys must be of immutable type and must be unique."
      ]
    },
    {
      "cell_type": "code",
      "metadata": {
        "id": "SNO0M2f8KuW2",
        "colab": {
          "base_uri": "https://localhost:8080/"
        },
        "outputId": "644151ef-c69a-4d75-84f2-7ce90baba254"
      },
      "source": [
        "d={}  #empty dictionary\n",
        "print(d)\n",
        "d={1:'MP',2:'AOA',3:'DBMS',4:'OS',5:'EM'}\n",
        "print(d)\n",
        "d[6]='PY'\n",
        "print(d)"
      ],
      "execution_count": null,
      "outputs": [
        {
          "output_type": "stream",
          "text": [
            "{}\n",
            "{1: 'MP', 2: 'AOA', 3: 'DBMS', 4: 'OS', 5: 'EM'}\n",
            "{1: 'MP', 2: 'AOA', 3: 'DBMS', 4: 'OS', 5: 'EM', 6: 'PY'}\n"
          ],
          "name": "stdout"
        }
      ]
    },
    {
      "cell_type": "code",
      "metadata": {
        "id": "69z6SKp8LlO0",
        "colab": {
          "base_uri": "https://localhost:8080/"
        },
        "outputId": "856198aa-8d22-445d-f6ed-ab8e99984c11"
      },
      "source": [
        "#Retrieve all keys\n",
        "print(d.keys())\n",
        "#Retrieve all values\n",
        "print(d.values())"
      ],
      "execution_count": null,
      "outputs": [
        {
          "output_type": "stream",
          "text": [
            "dict_keys([1, 2, 3, 4, 5, 6])\n",
            "dict_values(['MP', 'AOA', 'DBMS', 'OS', 'EM', 'PY'])\n"
          ],
          "name": "stdout"
        }
      ]
    },
    {
      "cell_type": "code",
      "metadata": {
        "id": "ONrvhQG6L6_S",
        "colab": {
          "base_uri": "https://localhost:8080/"
        },
        "outputId": "7633dcdc-337d-4fa7-8632-5b9a48bfd1b7"
      },
      "source": [
        "#Retrieve value of given key\n",
        "print(d[6])\n",
        "#deleting key\n",
        "del d[3]\n",
        "print(d)"
      ],
      "execution_count": null,
      "outputs": [
        {
          "output_type": "stream",
          "text": [
            "PY\n",
            "{1: 'MP', 2: 'AOA', 4: 'OS', 5: 'EM', 6: 'PY'}\n"
          ],
          "name": "stdout"
        }
      ]
    },
    {
      "cell_type": "markdown",
      "metadata": {
        "id": "orKNem1YMV6W"
      },
      "source": [
        "## **Literals in python**\n",
        "\n",
        "It is a constant value that is stored into a variale in a program. They can also be defined as raw value or data given in variables or constants. \n",
        "\n",
        "The following are different types of literals in python:\n",
        "\n",
        "1.   Numeric literals\n",
        "\n"
      ]
    },
    {
      "cell_type": "code",
      "metadata": {
        "id": "-Nsv7n37Oafs",
        "colab": {
          "base_uri": "https://localhost:8080/"
        },
        "outputId": "0ee78650-2664-42ec-8329-980bcfa3834f"
      },
      "source": [
        "# Numeric literals \n",
        "x = 24\n",
        "y = 24.3\n",
        "z = 2+3j\n",
        "print(x, y, z) "
      ],
      "execution_count": null,
      "outputs": [
        {
          "output_type": "stream",
          "text": [
            "24 24.3 (2+3j)\n"
          ],
          "name": "stdout"
        }
      ]
    },
    {
      "cell_type": "markdown",
      "metadata": {
        "id": "9BT5mxKxO1-E"
      },
      "source": [
        "Here 24, 24.3, 2+3j are considered as literals."
      ]
    },
    {
      "cell_type": "markdown",
      "metadata": {
        "id": "wRb0-nUkOzfW"
      },
      "source": [
        "2.   Boolean literals\n",
        "\n",
        "  There are only two boolean literals in Python. They are true and false."
      ]
    },
    {
      "cell_type": "markdown",
      "metadata": {
        "id": "bRoPEK2sPbyG"
      },
      "source": [
        "2.   String literals\n",
        "\n",
        "  A string literal can be created by writing a text(a group of Characters ) surrounded by the single(”), double(“”), or triple quotes.  By using triple quotes we can write multi-line strings or display in the desired way. "
      ]
    },
    {
      "cell_type": "code",
      "metadata": {
        "id": "_qjoxqB9Ps9C",
        "colab": {
          "base_uri": "https://localhost:8080/"
        },
        "outputId": "f9ecd41d-7f13-46c2-aaad-865eecc1b751"
      },
      "source": [
        "  \n",
        "# in single quote \n",
        "s = 'Python'\n",
        "  \n",
        "# in double quotes \n",
        "t = \"Programmin\"\n",
        "  \n",
        "# multi-line String \n",
        "m = '''Python  \n",
        "           Programming'''\n",
        "  \n",
        "print(s) \n",
        "print(t) \n",
        "print(m) "
      ],
      "execution_count": null,
      "outputs": [
        {
          "output_type": "stream",
          "text": [
            "Python\n",
            "Programmin\n",
            "Python  \n",
            "         Programming\n"
          ],
          "name": "stdout"
        }
      ]
    },
    {
      "cell_type": "markdown",
      "metadata": {
        "id": "qqV-PwycQHTT"
      },
      "source": [
        "## Determining the datatype of a variable\n",
        "\n",
        "type(): built-in function that prints type of object.\n"
      ]
    },
    {
      "cell_type": "code",
      "metadata": {
        "id": "HjCOn5lxQqNo",
        "colab": {
          "base_uri": "https://localhost:8080/"
        },
        "outputId": "3400e2b6-6c10-4ed2-85e9-67ad144cb092"
      },
      "source": [
        "ch='A'\n",
        "print(type(ch))"
      ],
      "execution_count": null,
      "outputs": [
        {
          "output_type": "stream",
          "text": [
            "<class 'str'>\n"
          ],
          "name": "stdout"
        }
      ]
    },
    {
      "cell_type": "markdown",
      "metadata": {
        "id": "Y1S11uhXQXWf"
      },
      "source": [
        "## **Python identifiers**\n",
        "\n",
        "An identifier is a name given to entities like class, functions, variables, etc. It helps to differentiate one entity from another.\n",
        "Rules for writing identifiers:\n",
        "\n",
        "\n",
        "1.   Identifiers can be a combination of letters in lowercase (a to z) or uppercase (A to Z) or digits (0 to 9) or an underscore _.\n",
        "2.   Names like myClass, var_1 and print_this_to_screen, all are valid example.\n",
        "3.   An identifier cannot start with a digit. 1variable is invalid, but variable1 is a valid name.\n",
        "4. Keywords cannot be used as identifiers.\n",
        "  eg: for=1 is invalid\n",
        "5. We cannot use special symbols like !, @, #, $, % etc. in our identifier.\n",
        "6. An identifier can be of any length.\n",
        "\n",
        "\n",
        " \n",
        "\n"
      ]
    },
    {
      "cell_type": "markdown",
      "metadata": {
        "id": "BNFKjCBRTQNJ"
      },
      "source": [
        "## **Python keywords**\n",
        "\n",
        "Keywords are the reserved words in Python.\n",
        "\n",
        "We cannot use a keyword as a variable name, function name or any other identifier. They are used to define the syntax and structure of the Python language.\n",
        "\n",
        "In Python, keywords are case sensitive.All the keywords except True, False and None are in lowercase and they must be written as they are. The list of some keywords is given below.\n",
        "\n",
        "\n",
        "\n",
        "![image.png](data:image/png;base64,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)"
      ]
    }
  ]
}