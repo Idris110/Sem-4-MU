{
  "nbformat": 4,
  "nbformat_minor": 0,
  "metadata": {
    "colab": {
      "name": "Operators in Python VA.ipynb",
      "provenance": [],
      "toc_visible": true
    },
    "kernelspec": {
      "name": "python3",
      "display_name": "Python 3"
    }
  },
  "cells": [
    {
      "cell_type": "markdown",
      "metadata": {
        "id": "_nyP3QjUE8jo"
      },
      "source": [
        "# **Operators in Python**\n",
        "\n",
        "\n",
        "---\n",
        "What we will learn?\n",
        "\n",
        "*   Classification of Operators \n",
        "*   Operator Precedance and Associativity\n",
        "*   Mathematical Functions\n",
        "\n",
        "\n",
        "\n",
        "\n"
      ]
    },
    {
      "cell_type": "markdown",
      "metadata": {
        "id": "RoS3PS51FFoe"
      },
      "source": [
        "**Operator:** It is a symbol that performs an operation.\n",
        "\n",
        "**Operand**: The variables on which operator acts\n",
        "\n",
        "\n",
        "# **Classification**\n",
        "\n",
        "On the basis of Number of Operands\n",
        "\n",
        "1.   **Unary Operator:** Operator acts on single variable\n",
        "2.   **Binary Operator:** Operator acts on two variables \n",
        "3.   **Ternary Operator:** Operator acts on three variables\n",
        "\n",
        "On the basis of type of operation\n",
        "\n",
        "1.   Arithmetic Operators\n",
        "2.   Assignment Operators\n",
        "3.   Unary Minus Operators\n",
        "4.   Relational Operators\n",
        "5.   Logical Operators\n",
        "6.   Boolean Operators\n",
        "7.   Bitwise Operators\n",
        "8.   Membership Operators\n",
        "9.   Identity Operators\n",
        "\n",
        "\n",
        "\n",
        "\n",
        "\n"
      ]
    },
    {
      "cell_type": "markdown",
      "metadata": {
        "id": "0wmWQeLFafZS"
      },
      "source": [
        "# **Arithmetic Operators**\n",
        "\n",
        "There are seven operators under this category\n",
        "\n",
        "1.  Addition ( + ) : Adds two values\n",
        "2.  Subtraction ( - ) : Subtracts one value from other\n",
        "3.  Multiplication ( * ) : Multiplies values on either side of the operator\n",
        "4.  Division ( / ) : Divides left operand by right operand\n",
        "5.  Modulus ( % ): Gives remainder of the division\n",
        "6.  Exponent ( ** ): Caalculate exponential value. a ** b gives the value of a to the power b\n",
        "7.  Floor Division ( // ) : Performs division and gives only integer quotient\n",
        "\n",
        "Order of Evaluation is as follows\n",
        "\n",
        "> Step 1:  First parentheses are evaluated\n",
        "\n",
        "> Step 2:  Exponentiation is next\n",
        "\n",
        "> Step 3:  Multiplication, Division, Modulus and Floor division are at equal priority\n",
        "\n",
        "> Step 4: Addition and subtraction done afterwards\n",
        "\n",
        "> Step 5: Finally, assignment operation is performed\n",
        "\n",
        "\n",
        "\n"
      ]
    },
    {
      "cell_type": "code",
      "metadata": {
        "colab": {
          "base_uri": "https://localhost:8080/"
        },
        "id": "JcKzB56DdTCp",
        "outputId": "0244af15-2788-4fb8-a832-e7f8e681c7ba"
      },
      "source": [
        "13 + 5"
      ],
      "execution_count": null,
      "outputs": [
        {
          "output_type": "execute_result",
          "data": {
            "text/plain": [
              "18"
            ]
          },
          "metadata": {
            "tags": []
          },
          "execution_count": 4
        }
      ]
    },
    {
      "cell_type": "code",
      "metadata": {
        "colab": {
          "base_uri": "https://localhost:8080/"
        },
        "id": "EzT5jAqXdb-Y",
        "outputId": "b5b1dc62-410f-4dda-f067-08527ed474bc"
      },
      "source": [
        "13 - 5"
      ],
      "execution_count": null,
      "outputs": [
        {
          "output_type": "execute_result",
          "data": {
            "text/plain": [
              "8"
            ]
          },
          "metadata": {
            "tags": []
          },
          "execution_count": 5
        }
      ]
    },
    {
      "cell_type": "code",
      "metadata": {
        "colab": {
          "base_uri": "https://localhost:8080/"
        },
        "id": "7LO7IBWadkrY",
        "outputId": "d1fd0ff5-87d1-451e-d627-0d1efe3a3a66"
      },
      "source": [
        "13 / 5"
      ],
      "execution_count": null,
      "outputs": [
        {
          "output_type": "execute_result",
          "data": {
            "text/plain": [
              "2.6"
            ]
          },
          "metadata": {
            "tags": []
          },
          "execution_count": 6
        }
      ]
    },
    {
      "cell_type": "code",
      "metadata": {
        "colab": {
          "base_uri": "https://localhost:8080/"
        },
        "id": "-N3NIt0rdp6s",
        "outputId": "0f87d00c-5600-486f-c74a-859ba2aeb388"
      },
      "source": [
        "13 % 5"
      ],
      "execution_count": null,
      "outputs": [
        {
          "output_type": "execute_result",
          "data": {
            "text/plain": [
              "3"
            ]
          },
          "metadata": {
            "tags": []
          },
          "execution_count": 7
        }
      ]
    },
    {
      "cell_type": "code",
      "metadata": {
        "colab": {
          "base_uri": "https://localhost:8080/"
        },
        "id": "DclB8TCMd0NE",
        "outputId": "d21578da-3694-41ab-c6be-20c0b699becd"
      },
      "source": [
        "13 ** 5"
      ],
      "execution_count": null,
      "outputs": [
        {
          "output_type": "execute_result",
          "data": {
            "text/plain": [
              "371293"
            ]
          },
          "metadata": {
            "tags": []
          },
          "execution_count": 8
        }
      ]
    },
    {
      "cell_type": "code",
      "metadata": {
        "colab": {
          "base_uri": "https://localhost:8080/"
        },
        "id": "t3o1JkWyd4zA",
        "outputId": "048b84c5-c88a-47f5-8912-2210555efbd0"
      },
      "source": [
        "13 // 5"
      ],
      "execution_count": null,
      "outputs": [
        {
          "output_type": "execute_result",
          "data": {
            "text/plain": [
              "2"
            ]
          },
          "metadata": {
            "tags": []
          },
          "execution_count": 9
        }
      ]
    },
    {
      "cell_type": "code",
      "metadata": {
        "colab": {
          "base_uri": "https://localhost:8080/"
        },
        "id": "teK7f6LMd_Qn",
        "outputId": "d83a35b4-451f-436e-a77d-36b1bcab5935"
      },
      "source": [
        "d = (1 + 2) * 3 ** 2 // 2 + 3\n",
        "print(d)"
      ],
      "execution_count": null,
      "outputs": [
        {
          "output_type": "stream",
          "text": [
            "16\n"
          ],
          "name": "stdout"
        }
      ]
    },
    {
      "cell_type": "markdown",
      "metadata": {
        "id": "Eao2e7nYbHu5"
      },
      "source": [
        "# **Assignment Operators**\n",
        "\n",
        "These operators are useful to store the right side value into left side variable.\n",
        "\n",
        "They can also be used to perform simple arithmetic operation and then store the result into variable\n",
        "\n",
        "1. Assignment ( = ): Stores right side value into left side variable\n",
        "2. Addition Assignment ( += ): Adds right operand to the left operand and store the results into left operand\n",
        "3. Subtraction Assignment ( -= ): Subtract right operand from left operand and stores the result into left operand\n",
        "4. Multiplication Assignment ( *= ): Multiply right operand with left operand and stores the result into left operand\n",
        "5. Division Assignment ( /= ): Divides left operand with right operand and stores the result into left operand\n",
        "6. Modulus Assignment ( %= ): Divides left operand with right operand and stores the remainder into left operand\n",
        "7. Exponential Assignment ( **= ): Performs power value and store the result into left operand\n",
        "8. Floor Division Assignment ( //=) : Performs floor division and then stores result into left operand"
      ]
    },
    {
      "cell_type": "code",
      "metadata": {
        "colab": {
          "base_uri": "https://localhost:8080/"
        },
        "id": "Q0UCLkxnfj5B",
        "outputId": "92db9af9-1218-49b7-b704-1eaa1b5cba45"
      },
      "source": [
        "x = 20\n",
        "y = 10\n",
        "z = 5\n",
        "\n",
        "z = x + y\n",
        "print (z)\n",
        "\n",
        "z += x\n",
        "print(\"z=\",z)\n",
        "\n",
        "z -= x\n",
        "print(\"z=\",z)\n",
        "\n",
        "z *= x\n",
        "print(\"z=\",z)\n",
        "\n",
        "z /= x\n",
        "print(\"z=\",z)\n",
        "\n",
        "z %= x\n",
        "print(\"z=\",z)\n",
        "\n",
        "z = 17\n",
        "x = 3\n",
        "\n",
        "z //= x\n",
        "print(\"z=\",z)\n",
        "\n",
        "z **= x\n",
        "print(\"z=\",z)\n",
        "\n"
      ],
      "execution_count": null,
      "outputs": [
        {
          "output_type": "stream",
          "text": [
            "30\n",
            "z= 50\n",
            "z= 30\n",
            "z= 600\n",
            "z= 30.0\n",
            "z= 10.0\n",
            "z= 5\n",
            "z= 125\n"
          ],
          "name": "stdout"
        }
      ]
    },
    {
      "cell_type": "markdown",
      "metadata": {
        "id": "avqX1mi9haJT"
      },
      "source": [
        "**Multiple Assignment**\n",
        "\n",
        "There are different ways to assign values to variables"
      ]
    },
    {
      "cell_type": "code",
      "metadata": {
        "colab": {
          "base_uri": "https://localhost:8080/"
        },
        "id": "p39LOuqchwxx",
        "outputId": "92db8411-bf10-4d27-e8ba-ed29cdeb7455"
      },
      "source": [
        "a = b = 1  # Assign same values to two variables in single statement\n",
        "print(\"a=\", a)\n",
        "print(\"b=\", b) "
      ],
      "execution_count": null,
      "outputs": [
        {
          "output_type": "stream",
          "text": [
            "a= 1\n",
            "b= 1\n"
          ],
          "name": "stdout"
        }
      ]
    },
    {
      "cell_type": "code",
      "metadata": {
        "colab": {
          "base_uri": "https://localhost:8080/"
        },
        "id": "8sOmTceDiUHL",
        "outputId": "3fe0eea7-8cd8-4338-a3bf-a4166da0f49a"
      },
      "source": [
        "a = 1; b = 2  # Assign different values to two variables in single statement\n",
        "print(\"a=\", a)\n",
        "print(\"b=\", b) "
      ],
      "execution_count": null,
      "outputs": [
        {
          "output_type": "stream",
          "text": [
            "a= 1\n",
            "b= 2\n"
          ],
          "name": "stdout"
        }
      ]
    },
    {
      "cell_type": "code",
      "metadata": {
        "id": "zbOXGDpKjmfz",
        "colab": {
          "base_uri": "https://localhost:8080/"
        },
        "outputId": "13a85c03-cb60-46a3-b6a9-0e2842173536"
      },
      "source": [
        "a, b = 1, 2  # Another way of assigning different values to two variables in single statement\n",
        "print(\"a=\", a)\n",
        "print(\"b=\", b) "
      ],
      "execution_count": null,
      "outputs": [
        {
          "output_type": "stream",
          "text": [
            "a= 1\n",
            "b= 2\n"
          ],
          "name": "stdout"
        }
      ]
    },
    {
      "cell_type": "markdown",
      "metadata": {
        "id": "ctVF6n-HeOGU"
      },
      "source": [
        "# **Unary Minus Operator**\n",
        "\n",
        "The unary minus operator is denoted by the symbol minus ( - )\n",
        "\n",
        "When this operator is used before a variable, its value is negated.\n",
        "\n",
        "If the variable value is positive, it will be converted into negative and vice versa."
      ]
    },
    {
      "cell_type": "code",
      "metadata": {
        "colab": {
          "base_uri": "https://localhost:8080/"
        },
        "id": "Fhue9gmDfAzW",
        "outputId": "1bc5c12c-67ae-4cc7-bb67-6da46fe07fb2"
      },
      "source": [
        "n = 10\n",
        "print (-n)\n",
        "\n",
        "num = -10\n",
        "num = -num\n",
        "print(num)"
      ],
      "execution_count": null,
      "outputs": [
        {
          "output_type": "stream",
          "text": [
            "-10\n",
            "10\n"
          ],
          "name": "stdout"
        }
      ]
    },
    {
      "cell_type": "markdown",
      "metadata": {
        "id": "7wo8-1ElfSsE"
      },
      "source": [
        "# **Relational Operator**\n",
        "\n",
        "Relational operators are used to compare two quantitites.\n",
        "\n",
        "Using these operators it can be understood whether two values are same or whether one value is bigger or smaller than other\n",
        "\n",
        "These operators will result in True or False depending on the values compared\n",
        "\n",
        "\n",
        "1. Greater than ( > ): If the value of left operand is greater than the value of right operand, it gives True else it gives False.\n",
        "2. Greater than or equal to ( >= ): If the value of left operand is greater or equal than that of right operand, it gives True else it gives False.\n",
        "3. Less than ( < ): If the value of left operand is less than the value of right operand, it gives True else it gives False.\n",
        "4. Less than or equal to ( <= ): If the value of left operand is lesser or equal than that of right operand, it gives True else it gives False.\n",
        "5. Equals operator ( == ): If the value of left operand is equal to the value of right operand, it gives True else it gives False.\n",
        "6. Not equals ( != ): If the value of left operand is not equal to the value of right operand, it returns True else it returns False."
      ]
    },
    {
      "cell_type": "code",
      "metadata": {
        "colab": {
          "base_uri": "https://localhost:8080/"
        },
        "id": "h3oeIIG-idjG",
        "outputId": "77e6df36-bf56-46c4-ba07-d9cd961b8258"
      },
      "source": [
        "a = 1\n",
        "b = 2\n",
        "\n",
        "print( \"Greater than:\", a > b )\n",
        "print( \"Greater than or equal to:\",a >= b )\n",
        "print( \"Less than:\",a < b )\n",
        "print( \"Less than or equal to:\",a <= b )\n",
        "print( \"Equal to:\",a == b )\n",
        "print( \"Not equal to:\",a != b )\n"
      ],
      "execution_count": null,
      "outputs": [
        {
          "output_type": "stream",
          "text": [
            "Greater than: False\n",
            "Greater than or equal to: False\n",
            "Less than: True\n",
            "Less than or equal to: True\n",
            "Equal to: False\n",
            "Not equal to: True\n"
          ],
          "name": "stdout"
        }
      ]
    },
    {
      "cell_type": "markdown",
      "metadata": {
        "id": "lwOaj0vGkD5l"
      },
      "source": [
        "**Relational Operators are generally used to construct conditions in if statement**"
      ]
    },
    {
      "cell_type": "code",
      "metadata": {
        "colab": {
          "base_uri": "https://localhost:8080/"
        },
        "id": "qMj6UBxSkjn2",
        "outputId": "ad9d9f98-db35-4e20-bd31-33183e997166"
      },
      "source": [
        "a = 5\n",
        "b = 7\n",
        "\n",
        "if ( a > b ):\n",
        "  print (\"Yes\")\n",
        "else:\n",
        "  print (\"No\")"
      ],
      "execution_count": null,
      "outputs": [
        {
          "output_type": "stream",
          "text": [
            "No\n"
          ],
          "name": "stdout"
        }
      ]
    },
    {
      "cell_type": "markdown",
      "metadata": {
        "id": "FArJFOJQlURI"
      },
      "source": [
        "Relational operators can be chained. \n",
        "\n",
        "It means a single expression can hold more than one relational operator\n",
        "\n",
        "In the chain of relational operators, if we get all True, then only the final result will be True. \n",
        "\n",
        "If any comparison is false then overall result is also False"
      ]
    },
    {
      "cell_type": "code",
      "metadata": {
        "colab": {
          "base_uri": "https://localhost:8080/"
        },
        "id": "a38F_z4mlvZj",
        "outputId": "e048b8d7-574a-4444-92e4-6196d04ecf68"
      },
      "source": [
        "x = 15\n",
        "\n",
        "print(\"Stmt 1:\",10 < x < 20)\n",
        "print(\"Stmt 2:\",10 >= x < 20)\n",
        "print(\"Stmt 3:\",10 < x > 20)\n",
        "\n",
        "print(\"Stmt 4:\",1 < 2 < 3 < 4)\n",
        "\n",
        "print(\"Stmt 5:\",1 < 2 > 3 < 4)\n",
        "\n",
        "print(\"Stmt 6:\",4 > 2 >= 2 > 1)\n"
      ],
      "execution_count": null,
      "outputs": [
        {
          "output_type": "stream",
          "text": [
            "Stmt 1: True\n",
            "Stmt 2: False\n",
            "Stmt 3: False\n",
            "Stmt 4: True\n",
            "Stmt 5: False\n",
            "Stmt 6: True\n"
          ],
          "name": "stdout"
        }
      ]
    },
    {
      "cell_type": "markdown",
      "metadata": {
        "id": "bo_nrjMcoUPX"
      },
      "source": [
        "# **Logical Operator**\n",
        "Logical operators are useful to construct compound conditions.\n",
        "\n",
        "A compound condition is a combination of more than one simple condition.\n",
        "\n",
        "Each of the simple condition is evaluated to True or False and then the decision is taken to know whether the total condition is True or False\n",
        "\n",
        "In case of logical operators, False indicates 0 and True indicates any other number\n",
        "\n",
        "1. and operator( and ): x and y - If x is False, it returns x otherwise it returns y\n",
        "2. or operator( or ): x or y - If x is False, it returns y, otherwise it returns x\n",
        "3. not operator( not ): not x - If x is False, it returns True, otherwise True \n"
      ]
    },
    {
      "cell_type": "code",
      "metadata": {
        "colab": {
          "base_uri": "https://localhost:8080/"
        },
        "id": "qLZit4AfsvVb",
        "outputId": "82b1bd33-ce13-4f42-8666-e42813389b4d"
      },
      "source": [
        "x = 100\n",
        "y = 200\n",
        "z = 0\n",
        "print (x and y)\n",
        "print (x or y)\n",
        "print (not x)\n",
        "print (not z)\n",
        "\n",
        "x = 1; y = 2; z = 3\n",
        "\n",
        "if (x<y and y<z):    # Both relations are True\n",
        "  print('Yes')\n",
        "else:\n",
        "  print('No')\n",
        "\n",
        "if (x>y or y<z):    # One relation is false other is True\n",
        "  print('Yes')\n",
        "else:\n",
        "  print('No')\n"
      ],
      "execution_count": null,
      "outputs": [
        {
          "output_type": "stream",
          "text": [
            "200\n",
            "100\n",
            "False\n",
            "True\n",
            "Yes\n",
            "Yes\n"
          ],
          "name": "stdout"
        }
      ]
    },
    {
      "cell_type": "markdown",
      "metadata": {
        "id": "TwAm-gORuKo_"
      },
      "source": [
        "# **Boolean Operator**\n",
        "\n",
        "Boolean operators act upon 'bool' type literals and they provide 'bool' type output.\n",
        "\n",
        "The result provided by boolean operators will be either True or False.\n",
        "\n",
        "1. Boolean and operator ( and ): x and y - If both x and y are True, then it returns True, otherwise False\n",
        "2. Boolean or operator ( or ): x or y - If either x or y is True, then it returns True, else False\n",
        "3. Boolean not operator ( not ): not x - If x is True, it returns False, else True\n",
        "\n"
      ]
    },
    {
      "cell_type": "code",
      "metadata": {
        "colab": {
          "base_uri": "https://localhost:8080/"
        },
        "id": "6ovoWuhMwJuQ",
        "outputId": "6cd47521-808f-4695-c08a-33f4ac56ad8c"
      },
      "source": [
        "a = True\n",
        "b = False\n",
        "\n",
        "print ( \"Stmt 1:\",a and a)\n",
        "print ( \"Stmt 2:\",a and b)\n",
        "print ( \"Stmt 3:\",a or a)\n",
        "print ( \"Stmt 4:\",a or b)\n",
        "print ( \"Stmt 5:\",b or b)\n",
        "print ( \"Stmt 6:\",not a)\n",
        "print ( \"Stmt 7:\",not b)"
      ],
      "execution_count": null,
      "outputs": [
        {
          "output_type": "stream",
          "text": [
            "Stmt 1: True\n",
            "Stmt 2: False\n",
            "Stmt 3: True\n",
            "Stmt 4: True\n",
            "Stmt 5: False\n",
            "Stmt 6: False\n",
            "Stmt 7: True\n"
          ],
          "name": "stdout"
        }
      ]
    },
    {
      "cell_type": "markdown",
      "metadata": {
        "id": "3PkAzRd7w7yJ"
      },
      "source": [
        "# **Bitwise Operators**\n",
        "\n",
        "These operators act on individual bits (0 and 1) of the operand.\n",
        "\n",
        "Bitwise operators directly on binary numbers or on integers.\n",
        "\n",
        "While operating on integers, these numbers are converted into bits and then bitwise operators act upon those bits.\n",
        "\n",
        "The results are always given in the form of integers\n",
        "\n",
        "There are six types of bitwise operators:\n",
        "1. Bitwise Complement ( ~ )\n",
        "2. Bitwise AND ( & )\n",
        "3. Bitwise OR ( | )\n",
        "4. Bitwise XOR ( ^ )\n",
        "5. Bitwise Left Shift ( << )\n",
        "6. Bitwise Right Shift ( >> )"
      ]
    },
    {
      "cell_type": "markdown",
      "metadata": {
        "id": "V8zt0aZ5zayR"
      },
      "source": [
        "**1. Bitwise Complement Operator ( ~ )**\n",
        "\n",
        "It gives the complement form of a given number.\n",
        "\n",
        "The symbol is pronounced as tilde\n",
        "\n",
        "Complement form of a positive number can be obtained by changing 0's as 1's and vice versa\n",
        "\n",
        "Example:\n",
        "\n",
        "If x = 10 find ~x\n",
        "\n",
        "x   = 10  = 0000 1010\n",
        "\n",
        "~x  = -11 = 1111 0101\n",
        "\n",
        "The above answer is -11 in decimal\n",
        "\n",
        "---\n",
        "\n",
        "**2. Bitwise AND Operator ( & )**\n",
        "\n",
        "This operator performs AND operation on the individual bits of numbers\n",
        "\n",
        "The symbol is pronounced as ampersand\n",
        "\n",
        "Example:\n",
        "\n",
        "If x = 10 and y = 11 then find x & y\n",
        "\n",
        "x = 10 = 0000 1010\n",
        "\n",
        "y = 11 = 0000 1011\n",
        "\n",
        "x & y  = 0000 1010\n",
        "\n",
        "The above answer is 10 in decimal\n",
        "\n",
        "---\n",
        "\n",
        "**3. Bitwise OR Operator ( | )**\n",
        "\n",
        "This operator performs OR operation on the individual bits of numbers\n",
        "\n",
        "The symbol is pronounced as pipe\n",
        "\n",
        "Example:\n",
        "\n",
        "If x = 10 and y = 11 then find x | y\n",
        "\n",
        "x = 10 = 0000 1010\n",
        "\n",
        "y = 11 = 0000 1011\n",
        "\n",
        "x & y  = 0000 1011\n",
        "\n",
        "The above answer is 11 in decimal\n",
        "\n",
        "---\n",
        "**4. Bitwise XOR Operator ( ^ )**\n",
        "\n",
        "This operator performs exclusive OR operation on the individual bits of numbers\n",
        "\n",
        "The symbol is pronounced as cap or carat\n",
        "\n",
        "Example:\n",
        "\n",
        "If x = 10 and y = 11 then find x ^ y\n",
        "\n",
        "x = 10 = 0000 1010\n",
        "\n",
        "y = 11 = 0000 1011\n",
        "\n",
        "x ^ y  = 0000 0001\n",
        "\n",
        "The above answer is 1 in decimal\n",
        "\n",
        "---\n",
        "**5. Bitwise Left Shift Operator ( << )**\n",
        "\n",
        "This operator shifts the bits of the number towards left with a specified number of positions\n",
        "\n",
        "The symbol is read as double less than\n",
        "\n",
        "x << n : To shift the bits of x towards left n positions. Rightmost n bits will be padded with '0's\n",
        "\n",
        "Example:\n",
        "\n",
        "If x = 10 perform x << 2\n",
        "\n",
        "x = 0000 1010 \n",
        "\n",
        "x << 2 = 0010 1000\n",
        "\n",
        "The above answer is 40 in decimal\n",
        "\n",
        "---\n",
        "\n",
        "**5. Bitwise Right Shift Operator ( >> )**\n",
        "\n",
        "This operator shifts the bits of the number towards right with a specified number of positions\n",
        "\n",
        "The symbol is read as double greater than\n",
        "\n",
        "x >> n : To shift the bits of x towards right n positions. Leftmost n bits will be padded with '0's\n",
        "\n",
        "Example:\n",
        "\n",
        "If x = 10 perform x << 2\n",
        "\n",
        "x = 0000 1010 \n",
        "\n",
        "x >> 2 = 0000 0010\n",
        "\n",
        "The above answer is 2 in decimal\n",
        "\n",
        "\n"
      ]
    },
    {
      "cell_type": "code",
      "metadata": {
        "colab": {
          "base_uri": "https://localhost:8080/"
        },
        "id": "bu8ypBAN6wQW",
        "outputId": "3c9bc2e6-c934-40f9-e1a3-2f7e0bcd0a0b"
      },
      "source": [
        "x = 10\n",
        "y = 11\n",
        "\n",
        "print(\"Bitwise Not:\",~x)\n",
        "print(\"Bitwise AND:\", x & y)\n",
        "print(\"Bitwise OR:\", x | y)\n",
        "print(\"Bitwise XOR:\", x ^ y)\n",
        "print(\"Bitwise Left Shift:\", x << 2)\n",
        "print(\"Bitwise Right Shift:\", x >> 2)"
      ],
      "execution_count": null,
      "outputs": [
        {
          "output_type": "stream",
          "text": [
            "Bitwise Not: -11\n",
            "Bitwise AND: 10\n",
            "Bitwise OR: 11\n",
            "Bitwise XOR: 1\n",
            "Bitwise Left Shift: 40\n",
            "Bitwise Right Shift: 2\n"
          ],
          "name": "stdout"
        }
      ]
    },
    {
      "cell_type": "markdown",
      "metadata": {
        "id": "RL0sYjHh7sck"
      },
      "source": [
        "# **Membership Operators**\n",
        "\n",
        "The membership operators are useful to test for membership in a sequence such as strings, lists, tuples or dictionaries\n",
        "\n",
        "If an element is found in the sequence or not can be asserted using these operators.\n",
        "\n",
        "There are two membership operators are\n",
        "\n",
        "**1.   in operator:** It returns 'True' if an element is found in the specified sequence. If not found then it returns 'False'\n",
        "\n",
        "**2.   not in operator:** It returns 'True' if an element is not found in the sequence otherwise it returns 'False' \n"
      ]
    },
    {
      "cell_type": "code",
      "metadata": {
        "colab": {
          "base_uri": "https://localhost:8080/"
        },
        "id": "2Zh-atUd_PST",
        "outputId": "f5777536-d01e-4628-aacc-a2bc44e9369b"
      },
      "source": [
        "names = ['James', 'Vivek', 'Advait', 'Sunny']\n",
        "\n",
        "for k in names:          # To display the members of the list using for loop\n",
        "  print (k)\n",
        "\n",
        "# In above example the variable k holds the each and every value of list 'names'\n",
        "# The operator in will check whether each of these values is a member of list or not"
      ],
      "execution_count": null,
      "outputs": [
        {
          "output_type": "stream",
          "text": [
            "James\n",
            "Vivek\n",
            "Advait\n",
            "Sunny\n"
          ],
          "name": "stdout"
        }
      ]
    },
    {
      "cell_type": "code",
      "metadata": {
        "colab": {
          "base_uri": "https://localhost:8080/"
        },
        "id": "hWlFv0ZpBLbH",
        "outputId": "c107ac32-c1f1-4502-92d2-6b3f4e68031b"
      },
      "source": [
        "postal = {'Delhi':110001, 'Chennai':600001, 'Kolkata':700001, 'Bengluru':560001}\n",
        "\n",
        "for city in postal:\n",
        "  print(city, postal[city])"
      ],
      "execution_count": null,
      "outputs": [
        {
          "output_type": "stream",
          "text": [
            "Delhi 110001\n",
            "Chennai 600001\n",
            "Kolkata 700001\n",
            "Bengluru 560001\n"
          ],
          "name": "stdout"
        }
      ]
    },
    {
      "cell_type": "markdown",
      "metadata": {
        "id": "BLxuqW3xDUPj"
      },
      "source": [
        "# **Identity Operators**\n",
        "\n",
        "These operators compare memory locations of two objects.\n",
        "\n",
        "It is possible to know whether the two objects are same not\n",
        "\n",
        "The memory location of an object can be seen using **id( ) function**\n",
        "\n",
        "The function returns an integer number called the **identity number** that internally represents the memory location of the object.\n",
        "\n",
        "For example: id(a) gives the identity number of an object referred by name(a)\n"
      ]
    },
    {
      "cell_type": "code",
      "metadata": {
        "colab": {
          "base_uri": "https://localhost:8080/"
        },
        "id": "Yl9gYo9LE1Sd",
        "outputId": "22a871ff-e809-4b61-f385-07415a76eb9d"
      },
      "source": [
        "a = 25\n",
        "b = 25\n",
        "\n",
        "print (\"a and b holds same value\")\n",
        "print(id(a))\n",
        "print(id(b))\n",
        "\n",
        "b = 30\n",
        "\n",
        "print (\"The value of b has been modified\")\n",
        "print(id(a))\n",
        "print(id(b))\n"
      ],
      "execution_count": null,
      "outputs": [
        {
          "output_type": "stream",
          "text": [
            "a and b holds same value\n",
            "10915264\n",
            "10915264\n",
            "The value of b has been modified\n",
            "10915264\n",
            "10915424\n"
          ],
          "name": "stdout"
        }
      ]
    },
    {
      "cell_type": "markdown",
      "metadata": {
        "id": "fNbAFwsGGq6B"
      },
      "source": [
        "There are two identity operators:\n",
        "\n",
        "**1. is operator:** \n",
        "\n",
        "It is useful to compare whether two objects are same or not.\n",
        "\n",
        "It will internally compare the identity number of the object.\n",
        "\n",
        "If the identity number of the objects are same then it will return True otherwise it will return False\n",
        "\n",
        "**2. is not operator:**\n",
        "\n",
        "It returns True if the identity of the two objects being compared are not same.\n",
        "\n",
        "If they are same then it will return False\n",
        "\n",
        "---\n",
        "**Please NOTE:**\n",
        "\n",
        "Above operators compare the identity numbers or memory locations of the object.\n",
        "\n",
        "If we want to compare the values then we should use equality operator (==)\n"
      ]
    },
    {
      "cell_type": "code",
      "metadata": {
        "colab": {
          "base_uri": "https://localhost:8080/"
        },
        "id": "kSpsOhg_JXRl",
        "outputId": "621c5f46-2489-4b1a-9d43-43926e59fefa"
      },
      "source": [
        "a = 100\n",
        "b = 100\n",
        "\n",
        "if ( a is b):\n",
        "  print(\"a and b have same identity\")\n",
        "else:\n",
        "  print(\"a and b do not have same identity\")\n"
      ],
      "execution_count": null,
      "outputs": [
        {
          "output_type": "stream",
          "text": [
            "a and b have same identity\n"
          ],
          "name": "stdout"
        }
      ]
    },
    {
      "cell_type": "code",
      "metadata": {
        "colab": {
          "base_uri": "https://localhost:8080/"
        },
        "id": "1UkMyiNgKDm-",
        "outputId": "2834d766-e6e4-4004-bc4c-cc51adab654e"
      },
      "source": [
        "lst1 = [1, 2, 3, 4]\n",
        "lst2 = [1, 2, 3, 4]\n",
        "\n",
        "if (lst1 is lst2):\n",
        "  print(\"lst1 and lst2 are internally same\")\n",
        "else:\n",
        "  print(\"lst1 and lst2 are internally different\")\n",
        "\n",
        "print(\"id of lst1\",id(lst1))\n",
        "print(\"id of lst2\",id(lst2))\n",
        "\n",
        "if (lst1 == lst2):\n",
        "  print(\"lst1 and lst2 are same in values\")\n",
        "else:\n",
        "  print(\"lst1 and lst2 are different in values\")\n"
      ],
      "execution_count": null,
      "outputs": [
        {
          "output_type": "stream",
          "text": [
            "lst1 and lst2 are internally different\n",
            "id of lst1 139686341539912\n",
            "id of lst2 139686336129032\n",
            "lst1 and lst2 are same in values\n"
          ],
          "name": "stdout"
        }
      ]
    },
    {
      "cell_type": "markdown",
      "metadata": {
        "id": "3Hlj8RcqLSlM"
      },
      "source": [
        "# Operator Precedance and Associativity\n",
        "\n",
        "**Operator Precedance:** \n",
        "\n",
        "The sequence of execution of the operators \n",
        "\n",
        "Precedance level represents the priority level of the operator\n",
        "\n",
        "The operator with higher precedance will be executed first than that of lower precedance\n",
        "\n",
        "The following list shows the operator precedance in Python. The number 1 has highest precedance.\n",
        "\n",
        "1. Parenthesis ( )\n",
        "2. Exponentiation **\n",
        "3. Unary Minus, Bitwise Complement -, ~\n",
        "4. Multiplication, Division, Floor Division, Modulus  *, /, //, %\n",
        "5. Addition, Subtraction  +,  -\n",
        "6. Bitwise Left Shift, Bitwise Right Shift  <<, >>\n",
        "7. Bitwise AND &\n",
        "8. Bitwise XOR ^\n",
        "9. Bitwise OR |\n",
        "10. Relational Operators >, >=, <, <=, ==, !=\n",
        "11. Assignment Operators =, %=, /=, //=, -=, +=, *=, **=\n",
        "12. Identity Operators is, is not\n",
        "13. Membership Operators in, not in\n",
        "14. Logical not operator: not\n",
        "15. Logical or operator: or\n",
        "16. Logical and operator: and"
      ]
    },
    {
      "cell_type": "markdown",
      "metadata": {
        "id": "V6vUH7W6UDzn"
      },
      "source": [
        "**Associativity**\n",
        "\n",
        "It is the order in which an expression is evaluated that has multiple operators with the same precedance.\n",
        "\n",
        "The associativity can be from Left-to-Right or Right-to-Left.\n",
        "\n",
        "In python, almost all the operators have left-to-right associativity\n",
        "\n",
        "---\n",
        "**Example**:\n",
        "\n",
        "value = 3 / 2 * 4 + 3 + **(10 / 4)** ** 3 - 2\n",
        "\n",
        "value = 3 / 2 * 4 + 3 + **2.5 ** 3** - 2\n",
        "\n",
        "value = **3 / 2** * 4 + 3 + 15.625 - 2\n",
        "\n",
        "value = **1.5 * 4** + 3 + 15.625 - 2\n",
        "\n",
        "value = **6.0 + 3** + 15.625 - 2\n",
        "\n",
        "value = **9.0 + 15.625** - 2\n",
        "\n",
        "value = **24.625 - 2**\n",
        "\n",
        "value = 22.625\n",
        "\n",
        "\n"
      ]
    },
    {
      "cell_type": "markdown",
      "metadata": {
        "id": "2OHyopgBXWD3"
      },
      "source": [
        "# **Mathematical Function**\n",
        "\n",
        "Built in functions can be used to perform various advanced operations\n",
        "\n",
        "In python, module is a file that contains a group of useful objects like functions, classes or variables.\n",
        "\n",
        "'math' is a module that contains several functions to perform mathematical operations.\n",
        "\n",
        "A module has to be imported in the program before its use in Python Program.\n",
        "\n",
        "A module is imported using keyword 'import'\n",
        "\n",
        "It can be used in three different ways\n",
        "\n",
        "**1. Use name of the module to call the function**\n",
        "\n",
        "Example:\n",
        "\n",
        "To import math module and use its square root function \n",
        "\n",
        "Here function is called using module name\n",
        "\n",
        "```\n",
        "import math\n",
        "x = math.sqrt(16)\n",
        "```\n",
        "\n",
        "**2. Use proxy name for the module and then refer it to call fuctions**\n",
        "\n",
        "Example:\n",
        "\n",
        "To import math module and use its square root function \n",
        "\n",
        "Here function is called using dummy name m for module math\n",
        "\n",
        "```\n",
        "import math as m\n",
        "x = m.sqrt(16)\n",
        "```\n",
        "\n",
        "\n",
        "**3. import only required functions and then use it without referring module name**\n",
        "\n",
        "Example:\n",
        "\n",
        "To import math module and use its square root function \n",
        "\n",
        "Here only sqrt function is imported from math module\n",
        "\n",
        "```\n",
        "from math import sqrt\n",
        "x = sqrt(16)\n",
        "```\n"
      ]
    },
    {
      "cell_type": "markdown",
      "metadata": {
        "id": "FZ_rKbBOdJsi"
      },
      "source": [
        "### **Important Mathematical Functions**\n",
        "\n",
        "Some of the important mathematical functions are listed below:\n",
        "\n",
        "1. ceil(x): Raises value to next higher integer. If x is integer then same value will be returned.\n",
        "\n",
        "2. floor(x): Decreases x value to the previous integer value. If x is integer then same value will be returned.\n",
        "\n",
        "3. degrees(x): converts angle value x from radians into degrees\n",
        "\n",
        "4. radians(x): converts x value from degrees into radians\n",
        "\n",
        "5. sin(x): returns sine value of x. Here x value is given in radians\n",
        "\n",
        "6. cos(x): returns cosine value of x. Here x value is given in radians\n",
        "\n",
        "7. tan(x): returns tangent value of x. Here x value is given in radians\n",
        "\n",
        "8. exp(x): returns exponentiation of x. This is similar to e ** x\n",
        "\n",
        "9. fab(x): Gives positive value or absolute value of x.\n",
        "\n",
        "10. factorial(x): returns factorial value of x. Raises 'Value Error' if x is not integer or x is negative\n",
        "\n",
        "**Note:** These functions cannot be used with complex numbers. For complex numbers operations a separate module 'cmath' is available "
      ]
    },
    {
      "cell_type": "markdown",
      "metadata": {
        "id": "AjKv611sgc0n"
      },
      "source": [
        "### **Constant in Math Module**\n",
        "Some of the constants in Math Module\n",
        "\n",
        "1. pi: The mathematical constant Pi = 3.141592...\n",
        "\n",
        "2. e: The mathematical constant e = 2.718281\n",
        "\n",
        "3. inf: A floating point positive infinity\n",
        "\n",
        "4. nan: A floating point 'Not a Number' (NaN) value"
      ]
    },
    {
      "cell_type": "code",
      "metadata": {
        "colab": {
          "base_uri": "https://localhost:8080/"
        },
        "id": "MQK3-jdQh2pN",
        "outputId": "0bafa935-357d-4759-a2a8-d0641c8944c2"
      },
      "source": [
        "import math\n",
        "r = 15.5\n",
        "area = math.pi * r ** 2\n",
        "print(\"Area of Circle:\", area)"
      ],
      "execution_count": null,
      "outputs": [
        {
          "output_type": "stream",
          "text": [
            "Area of Circle: 754.7676350249478\n"
          ],
          "name": "stdout"
        }
      ]
    }
  ]
}